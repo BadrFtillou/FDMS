{
 "cells": [
  {
   "cell_type": "markdown",
   "metadata": {},
   "source": [
    "<h1>TME 03 : Diffusion</h1>"
   ]
  },
  {
   "cell_type": "markdown",
   "metadata": {},
   "source": [
    "<h3>Importations des librairies utilisées</h3>"
   ]
  },
  {
   "cell_type": "code",
   "execution_count": 1,
   "metadata": {
    "collapsed": true
   },
   "outputs": [],
   "source": [
    "%matplotlib inline\n",
    "import numpy as np\n",
    "import matplotlib.pyplot as plt\n",
    "import matplotlib"
   ]
  },
  {
   "cell_type": "code",
   "execution_count": 2,
   "metadata": {
    "collapsed": false
   },
   "outputs": [],
   "source": [
    "def getData(filename=\"cascades_train.txt\"):\n",
    "    fichier = open(filename)\n",
    "    cascades = []\n",
    "    for episode in fichier.readlines() : \n",
    "        clean_episode = episode[:-2]\n",
    "        couples = [e for e in clean_episode.split(';')]\n",
    "        couples_ = np.array([e.split(\":\") for e in couples] , float)\n",
    "        sorted_indexes = couples_[:,1].argsort() ; \n",
    "        cascades.append(couples_[sorted_indexes])\n",
    "    return cascades"
   ]
  },
  {
   "cell_type": "code",
   "execution_count": 3,
   "metadata": {
    "collapsed": false
   },
   "outputs": [],
   "source": [
    "cascades = getData()\n",
    "#print(cascades)"
   ]
  },
  {
   "cell_type": "code",
   "execution_count": 4,
   "metadata": {
    "collapsed": false
   },
   "outputs": [],
   "source": [
    "from collections import defaultdict\n",
    "import random\n",
    "def graph(cascades):\n",
    "    all_succ = defaultdict(dict)\n",
    "    all_pred = defaultdict(dict)\n",
    "    for episode in cascades :\n",
    "        #print(episode)\n",
    "        temp = [] \n",
    "        for i in range(len(episode)):\n",
    "            #mask check if current time > others\n",
    "            m = episode[:,1] > episode[i,1]\n",
    "            #apply mask to get couples \n",
    "            couples = episode[m]\n",
    "            #get succ \n",
    "            temp.append(couples[:,0])\n",
    "            \n",
    "        for i,su in enumerate(temp):\n",
    "            for s in su :\n",
    "                # proba de diffusion p\n",
    "                p = random.random()\n",
    "                all_succ[episode[i][0]][s] = p\n",
    "                all_pred[s][episode[i][0]] = p   \n",
    "    return all_succ , all_pred\n",
    "    "
   ]
  },
  {
   "cell_type": "code",
   "execution_count": 5,
   "metadata": {
    "collapsed": false
   },
   "outputs": [],
   "source": [
    "all_succ , all_pred = graph(cascades)"
   ]
  },
  {
   "cell_type": "code",
   "execution_count": 6,
   "metadata": {
    "collapsed": false
   },
   "outputs": [
    {
     "name": "stdout",
     "output_type": "stream",
     "text": [
      "{0.0: 0.05343185771484005, 1.0: 0.02485666905058248, 2.0: 0.8923326706339646, 3.0: 0.2243576008512519, 4.0: 0.42550556895260916, 5.0: 0.5242369561031679, 6.0: 0.7911106428406787, 7.0: 0.48763170957730484, 8.0: 0.8453874543977795, 9.0: 0.7300753960854746, 10.0: 0.06798508866812014, 11.0: 0.10105358370493056, 12.0: 0.5305267112622518, 13.0: 0.9344280422989399, 14.0: 0.06146489752997886, 15.0: 0.5648637053126568, 16.0: 0.4109870847991538, 17.0: 0.0673737415067921, 18.0: 0.48790038693371107, 19.0: 0.06805910536684068, 20.0: 0.637257855529752, 21.0: 0.6402138554742844, 22.0: 0.6974447526293377, 23.0: 0.7899218100110154, 24.0: 0.2526637980664911, 25.0: 0.5939658851015693, 26.0: 0.32113571387558004, 27.0: 0.29726596844221176, 28.0: 0.8852881108509707, 29.0: 0.3135943290879083, 30.0: 0.9101540568042353, 31.0: 0.15854311972571167, 32.0: 0.5606300669236117, 33.0: 0.9927818555754434, 34.0: 0.8573296174077407, 35.0: 0.5067074644090811, 36.0: 0.791388832749334, 37.0: 0.880576948191798, 38.0: 0.8908265110877425, 39.0: 0.9935087223934845, 40.0: 0.020068154477917544, 41.0: 0.4163174304298407, 42.0: 0.9391421226211691, 43.0: 0.5360194305559409, 44.0: 0.006461496159322677, 45.0: 0.6357218252561815, 46.0: 0.30453296984734424, 47.0: 0.45915692934430696, 48.0: 0.5502904190582264, 49.0: 0.850764745221108, 50.0: 0.3343666373122266, 51.0: 0.9435970075283306, 52.0: 0.19187281126160027, 53.0: 0.5817107750123065, 54.0: 0.09451746651786341, 55.0: 0.01993850119350349, 56.0: 0.1884547546548978, 57.0: 0.6360589514009886, 58.0: 0.8021775999171744, 59.0: 0.693923078788348, 60.0: 0.24110870432658615, 61.0: 0.019205821864419215, 62.0: 0.26377719129635835, 63.0: 0.591296235886457, 64.0: 0.3971837020623372, 65.0: 0.838648828122965, 66.0: 0.22511538907845463, 67.0: 0.7092151226437241, 68.0: 0.3574214929828685, 69.0: 0.7919934088895753, 70.0: 0.6042458659130545, 71.0: 0.10582138372905459, 72.0: 0.9394666937487242, 73.0: 0.34016492031427925, 74.0: 0.222783117836589, 75.0: 0.4696803687685134, 76.0: 0.408807052178056, 77.0: 0.5816515767774633, 78.0: 0.5444644197672256, 79.0: 0.11897187575496115, 80.0: 0.6512406092171306, 81.0: 0.022948876254516692, 82.0: 0.2797291431289226, 83.0: 0.8368211932638233, 84.0: 0.7106286057239461, 85.0: 0.9094949029435813, 86.0: 0.8602006272390553, 87.0: 0.4060093232371391, 88.0: 0.31472902848248563, 89.0: 0.6836221519501544, 90.0: 0.8429476952746836, 91.0: 0.1416138828103548, 92.0: 0.3059770329692959, 93.0: 0.4323238135022819, 94.0: 0.038965955906435035, 95.0: 0.04653823342457242, 96.0: 0.7090490605323063, 97.0: 0.5437855486600135, 98.0: 0.3444585642736886}\n"
     ]
    }
   ],
   "source": [
    "print(all_succ[99])"
   ]
  },
  {
   "cell_type": "code",
   "execution_count": 10,
   "metadata": {
    "collapsed": false
   },
   "outputs": [
    {
     "name": "stdout",
     "output_type": "stream",
     "text": [
      "defaultdict(<class 'list'>, {0: [1, 2, 10, 15], 1: [2.0, 3.0, 4.0, 5.0, 7.0, 9.0, 11.0, 12.0, 14.0, 16.0, 17.0, 19.0, 22.0, 23.0, 24.0, 29.0, 30.0, 31.0, 34.0, 38.0, 39.0, 41.0, 43.0, 44.0, 47.0, 49.0, 51.0, 52.0, 53.0, 55.0, 56.0, 57.0, 58.0, 59.0, 63.0, 64.0, 66.0, 67.0, 69.0, 70.0, 72.0, 73.0, 74.0, 75.0, 78.0, 83.0, 86.0, 87.0, 89.0, 92.0, 93.0, 95.0, 98.0], 2: [1.0, 6.0, 8.0, 10.0, 13.0, 15.0, 20.0, 21.0, 27.0, 28.0, 32.0, 33.0, 36.0, 45.0, 48.0, 50.0, 54.0, 60.0, 65.0, 76.0, 77.0, 84.0, 85.0, 90.0, 91.0, 97.0, 99.0], 3: [0.0, 25.0, 26.0, 35.0, 61.0, 80.0, 81.0, 82.0, 94.0], 4: [18.0, 37.0, 42.0, 68.0, 71.0, 79.0]})\n"
     ]
    }
   ],
   "source": [
    "print(st)"
   ]
  },
  {
   "cell_type": "code",
   "execution_count": 11,
   "metadata": {
    "collapsed": false
   },
   "outputs": [
    {
     "name": "stdout",
     "output_type": "stream",
     "text": [
      "defaultdict(<class 'bool'>, {0.0: True, 1.0: True, 2.0: True, 3.0: True, 4.0: True, 5.0: True, 6.0: True, 7.0: True, 8.0: True, 9.0: True, 10.0: True, 11.0: True, 12.0: True, 13.0: True, 14.0: True, 15.0: True, 16.0: True, 17.0: True, 18.0: True, 19.0: True, 20.0: True, 21.0: True, 22.0: True, 23.0: True, 24.0: True, 25.0: True, 26.0: True, 27.0: True, 28.0: True, 29.0: True, 30.0: True, 31.0: True, 32.0: True, 33.0: True, 34.0: True, 35.0: True, 36.0: True, 37.0: True, 38.0: True, 39.0: True, 40.0: False, 41.0: True, 42.0: True, 43.0: True, 44.0: True, 45.0: True, 46.0: False, 47.0: True, 48.0: True, 49.0: True, 50.0: True, 51.0: True, 52.0: True, 53.0: True, 54.0: True, 55.0: True, 56.0: True, 57.0: True, 58.0: True, 59.0: True, 60.0: True, 61.0: True, 62.0: False, 63.0: True, 64.0: True, 65.0: True, 66.0: True, 67.0: True, 68.0: True, 69.0: True, 70.0: True, 71.0: True, 72.0: True, 73.0: True, 74.0: True, 75.0: True, 76.0: True, 77.0: True, 78.0: True, 79.0: True, 80.0: True, 81.0: True, 82.0: True, 83.0: True, 84.0: True, 85.0: True, 86.0: True, 87.0: True, 88.0: False, 89.0: True, 90.0: True, 91.0: True, 92.0: True, 93.0: True, 94.0: True, 95.0: True, 96.0: False, 97.0: True, 98.0: True, 99.0: True})\n"
     ]
    }
   ],
   "source": [
    "print(inf)"
   ]
  },
  {
   "cell_type": "code",
   "execution_count": 11,
   "metadata": {
    "collapsed": false
   },
   "outputs": [
    {
     "data": {
      "text/plain": [
       "0"
      ]
     },
     "execution_count": 11,
     "metadata": {},
     "output_type": "execute_result"
    }
   ],
   "source": [
    "len(all_pred[100])"
   ]
  },
  {
   "cell_type": "code",
   "execution_count": 12,
   "metadata": {
    "collapsed": false
   },
   "outputs": [],
   "source": [
    "def pdtu(cascades,theta) : \n",
    "    all_pdtu = defaultdict(dict)\n",
    "    for i,episode in enumerate(cascades) :\n",
    "        tmp = list(episode[:,1])\n",
    "        usr = list(episode[:,0])\n",
    "        tmp_={}\n",
    "        for u in usr :\n",
    "            pdtu = 1.0\n",
    "            if(len(all_pred[u])!=0):\n",
    "                for v in all_pred[u].keys() :\n",
    "                    pdtu =pdtu * (1 - theta[v][u])\n",
    "                pdtu=1-pdtu\n",
    "            tmp_[u]=pdtu\n",
    "        all_pdtu[i]= tmp_ \n",
    "    return all_pdtu"
   ]
  },
  {
   "cell_type": "code",
   "execution_count": 13,
   "metadata": {
    "collapsed": true
   },
   "outputs": [],
   "source": [
    "def getDpDm(cascades):\n",
    "    dp = {}\n",
    "    dm = {} \n",
    "    for u in range(100) : \n",
    "        for v in range(100) : \n",
    "            listDp=[]\n",
    "            listDm=[]\n",
    "            for i,episode in enumerate(cascades) :\n",
    "                usr = list(episode[:,0])\n",
    "                tmp = list(episode[:,1])\n",
    "                if (u in usr and v in usr and tmp[usr.index(u)] > tmp[usr.index(v)]):\n",
    "                    listDp.append(i)\n",
    "                if(u in usr and v not in usr):\n",
    "                    listDm.append(i)\n",
    "            dm[u,v]=listDm        \n",
    "            dp[u,v]=listDp\n",
    "    return dp,dm"
   ]
  },
  {
   "cell_type": "code",
   "execution_count": 14,
   "metadata": {
    "collapsed": false
   },
   "outputs": [],
   "source": [
    "import pickle\n",
    "existe=True\n",
    "if (not existe):\n",
    "    dp,dm = getDpDm(cascades)\n",
    "    pickle.dump(dm, open( \"dm.p\", \"wb\" ))\n",
    "    pickle.dump(dp, open( \"dp.p\", \"wb\" ))\n",
    "else:\n",
    "    dm= pickle.load( open( \"dm.p\", \"rb\" ) )\n",
    "    dp= pickle.load( open( \"dp.p\", \"rb\" ) )"
   ]
  },
  {
   "cell_type": "code",
   "execution_count": 15,
   "metadata": {
    "collapsed": false
   },
   "outputs": [],
   "source": [
    "def fit(cascades,dm,dp,iterations) : \n",
    "    theta = np.random.rand(100,100)\n",
    "    t= 0\n",
    "    while (t < iterations) : \n",
    "        print(\"itération: \"+str(t))\n",
    "        all_pdtu = pdtu(cascades,theta)\n",
    "        for u in  range(100) : \n",
    "            for v in  range(100) :  \n",
    "                if (u!=v):\n",
    "                    somme=0.0\n",
    "                    for episode in dp[u,v]:\n",
    "                        somme+=theta[u,v]/all_pdtu[episode][v]\n",
    "                        theta[u][v]=somme/(len(dp[u,v])+len(dm[u,v]))\n",
    "                    else :\n",
    "                        theta[u][v]=somme\n",
    "        t = t+ 1 #\n",
    "    return theta  "
   ]
  },
  {
   "cell_type": "code",
   "execution_count": 107,
   "metadata": {
    "collapsed": false
   },
   "outputs": [],
   "source": [
    "flag=True\n",
    "if (not flag):\n",
    "    theta = fit(cascades,dm,dp,100)\n",
    "    pickle.dump(theta, open( \"icTheta2.p\", \"wb\" ))\n",
    "else:\n",
    "    theta= pickle.load(open(\"icTheta2.p\", \"rb\" ) )"
   ]
  },
  {
   "cell_type": "code",
   "execution_count": 123,
   "metadata": {
    "collapsed": false
   },
   "outputs": [],
   "source": [
    "def infer(source) : \n",
    "    st = []\n",
    "    inf = defaultdict(bool)\n",
    "    st.append(source)\n",
    "    t = 1\n",
    "    flag = False\n",
    "    while (st[t-1] != []):\n",
    "        tmp=[]\n",
    "        for j in st[t-1] :\n",
    "            for succ in all_succ[j].keys(): \n",
    "                if ((not inf[succ]) and (theta[j][succ] > random.random())) : \n",
    "                    tmp.append(succ)\n",
    "                    inf[succ] = True\n",
    "        st.append(tmp)\n",
    "        t = t + 1\n",
    "    return [int(j) for i in st for j in i]"
   ]
  },
  {
   "cell_type": "code",
   "execution_count": 126,
   "metadata": {
    "collapsed": false
   },
   "outputs": [],
   "source": [
    "st=infer([40])"
   ]
  },
  {
   "cell_type": "code",
   "execution_count": 127,
   "metadata": {
    "collapsed": false
   },
   "outputs": [
    {
     "data": {
      "text/plain": [
       "[40, 15, 41, 54, 74, 65, 38, 37, 53]"
      ]
     },
     "execution_count": 127,
     "metadata": {},
     "output_type": "execute_result"
    }
   ],
   "source": [
    "st"
   ]
  },
  {
   "cell_type": "code",
   "execution_count": null,
   "metadata": {
    "collapsed": true
   },
   "outputs": [],
   "source": []
  }
 ],
 "metadata": {
  "kernelspec": {
   "display_name": "Python 2",
   "language": "python",
   "name": "python2"
  },
  "language_info": {
   "codemirror_mode": {
    "name": "ipython",
    "version": 2
   },
   "file_extension": ".py",
   "mimetype": "text/x-python",
   "name": "python",
   "nbconvert_exporter": "python",
   "pygments_lexer": "ipython2",
   "version": "2.7.10"
  }
 },
 "nbformat": 4,
 "nbformat_minor": 0
}
