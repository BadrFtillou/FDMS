{
 "cells": [
  {
   "cell_type": "markdown",
   "metadata": {},
   "source": [
    "<h1>TME 02 : Inférence Collective</h1>"
   ]
  },
  {
   "cell_type": "markdown",
   "metadata": {},
   "source": [
    "<h3>Importations des librairies utilisées</h3>"
   ]
  },
  {
   "cell_type": "code",
   "execution_count": 1,
   "metadata": {
    "collapsed": false
   },
   "outputs": [],
   "source": [
    "import random \n",
    "import numpy as np"
   ]
  },
  {
   "cell_type": "markdown",
   "metadata": {},
   "source": [
    "<h3>Fonctions de chargement des données</h3>"
   ]
  },
  {
   "cell_type": "markdown",
   "metadata": {},
   "source": [
    "La fonction loadLabels() s'applique sur un fichier *.content et retourne deux dictionnaires, le premier, labels, contient pour chaque lien son label, et est de la forme { lien1 : label1, lien2 : labels2 .... }. Le deuxieme, attrs, contient pour chaque lien, sa liste d'attributs ( liste de 0 et de 1 ), il est de la forme : {lien1 : [0,1,0,....], lien2 : [1,0,0,....]}"
   ]
  },
  {
   "cell_type": "code",
   "execution_count": 78,
   "metadata": {
    "collapsed": false
   },
   "outputs": [],
   "source": [
    "def loadLabels(path='ms/WebKB/content', file='texas.content'):     \n",
    "    labels={};     \n",
    "    attrs ={}; \n",
    "    for line in open(path+'/'+file): \n",
    "        line  = line[:-1]        \n",
    "        link = line.split('\\t') \n",
    "        labels.setdefault(link[0],{}) \n",
    "        attrs.setdefault(link[0],{}) \n",
    "          \n",
    "        labels[link[0]] = link[len(link)-1] \n",
    "        attrs[link[0]] = link[1:len(link)-1] \n",
    "    return labels,attrs  \n",
    "labels, attrs = loadLabels();"
   ]
  },
  {
   "cell_type": "markdown",
   "metadata": {},
   "source": [
    "La fonction loadLabels() s'applique sur un fichier *.cites, et retourne deux graphes, le premier graphe, graph, contient pour chaque lien, les liens vers lesquels il pointe (successeurs), et le deuxieme graphe, graphInv, contient pour chaque lien, les liens qui pointent vers lui (prédécesseurs)."
   ]
  },
  {
   "cell_type": "code",
   "execution_count": 3,
   "metadata": {
    "collapsed": false
   },
   "outputs": [],
   "source": [
    "def loadGraph(path='ms/WebKB/cites', file='texas.cites'):     \n",
    "    graph    ={};     \n",
    "    graphInv ={};     \n",
    "    for line in open(path+'/'+file):             \n",
    "        line  = line[:-1]  \n",
    "        (dest,source) = line.split(' ') \n",
    "         \n",
    "        if dest not in graph: \n",
    "            graph.setdefault(dest,{})             \n",
    "            graph[dest] = source \n",
    "        else: \n",
    "            graph[dest] = graph[dest]+';'+source \n",
    "        ############################################     \n",
    "        if source not in graphInv: \n",
    "            graphInv.setdefault(source,{})             \n",
    "            graphInv[source] = dest \n",
    "        else: \n",
    "            graphInv[source] = graphInv[source]+';'+dest \n",
    "              \n",
    "    return graph, graphInv \n",
    "graph, graphInv = loadGraph();                        "
   ]
  },
  {
   "cell_type": "markdown",
   "metadata": {},
   "source": [
    "Afin de construire les vecteurs, nous utiliserons ces quelques fonctions de traitement:\n",
    "La fonction getClasses() retourne les classes des liens voisins du lien donné en paramètre, ainsi que leurs nombres.\n",
    "La fonction getVecteurLabels() retourne un vecteur de taille 5 (les 5 labels), représentant les proportions des classes. "
   ]
  },
  {
   "cell_type": "code",
   "execution_count": 85,
   "metadata": {
    "collapsed": false
   },
   "outputs": [],
   "source": [
    "def get(links): \n",
    "     return links.split(';'); \n",
    "def getClasses(link, graphe, grapheInv): \n",
    "    classes={} \n",
    "    if link in graphe: \n",
    "        nexts = get(graphe[link]); \n",
    "        for i in nexts: \n",
    "            if labels[i] not in classes: \n",
    "                classes.setdefault(labels[i],{}) \n",
    "                classes[labels[i]] = 1 \n",
    "            else:     \n",
    "                classes[labels[i]] = classes[labels[i]] + 1\n",
    "    if link in grapheInv:     \n",
    "        precs = get(grapheInv[link]); \n",
    "        for i in precs: \n",
    "            if labels[i] not in classes: \n",
    "                classes.setdefault(labels[i],{}) \n",
    "                classes[labels[i]] = 1 \n",
    "            else:     \n",
    "                classes[labels[i]] = classes[labels[i]] + 1   \n",
    "    return classes;  \n",
    "def getVecteurLabels(classes): \n",
    "    #0: course, 1: faculty, 2: student, 3: project, 4: staff         \n",
    "    v = [0.0, 0.0, 0.0, 0.0, 0.0] \n",
    "    size = len(classes) \n",
    "    for i in classes: \n",
    "        if i == 'course': \n",
    "            v[0] = 1.0 / size \n",
    "        elif i == 'faculty': \n",
    "            v[1] = 1.0 / size \n",
    "        elif i == 'student': \n",
    "            v[2] = 1.0 / size \n",
    "        elif i == 'project': \n",
    "            v[3] = 1.0 / size \n",
    "        elif i == 'staff': \n",
    "            v[4] = 1.0 / size     \n",
    "    return v;         \n",
    "def getLabelByNumber(i):\n",
    "    if i == 1: \n",
    "        return 'course'\n",
    "    elif i == 2: \n",
    "        return 'faculty'\n",
    "    elif i == 3: \n",
    "        return 'student'\n",
    "    elif i == 4: \n",
    "        return 'project'\n",
    "    elif i == 5: \n",
    "        return 'staff'  \n",
    "def getNumberOfLabel(i):\n",
    "    if i == 'course': \n",
    "        return 1\n",
    "    elif i == 'faculty': \n",
    "        return 2\n",
    "    elif i == 'student': \n",
    "        return 3\n",
    "    elif i == 'project': \n",
    "        return 4\n",
    "    elif i == 'staff': \n",
    "        return 5    "
   ]
  },
  {
   "cell_type": "markdown",
   "metadata": {},
   "source": [
    "La fonction constructVectors() construit les vecteurs de tous les liens du graphe."
   ]
  },
  {
   "cell_type": "code",
   "execution_count": 5,
   "metadata": {
    "collapsed": false
   },
   "outputs": [],
   "source": [
    "def constructVectors(labels, attrs, graphe, grapheInv): \n",
    "    vecteurs = {}; \n",
    "    for link in labels:         \n",
    "        vecteurs.setdefault(link,{}) \n",
    "        i = [] \n",
    "        # Ajouter les liens: \n",
    "        i.extend(attrs[link])          \n",
    "        # Extraire les classes\n",
    "        classes = getClasses(link, graphe, grapheInv)          \n",
    "        # Construire le mini-vecteur de classes\n",
    "        vectLab = getVecteurLabels(classes)          \n",
    "        # Ajouter les labels des voisins: \n",
    "        i.extend(vectLab)           \n",
    "        vecteurs[link] = i \n",
    "    return vecteurs; \n",
    "        \n",
    "vecteurs = constructVectors(labels, attrs, graph, graphInv);   "
   ]
  },
  {
   "cell_type": "markdown",
   "metadata": {},
   "source": [
    "Nous allons ensuite prendre 10% de ces vecteurs à l'aide de la fonction getPourcentage(), puis à l'aide la fonciton getXY(), nous allons transformer ces vecteurs en matrice."
   ]
  },
  {
   "cell_type": "code",
   "execution_count": 81,
   "metadata": {
    "collapsed": false
   },
   "outputs": [],
   "source": [
    "def getVecteurTrainTest(vecteur, labels, pourcentage):     \n",
    "    s = pourcentage*len(vecteur) ;           \n",
    "    t = len(vecteur)- int(s);\n",
    "    vTrain = {} \n",
    "    vTest = {}    \n",
    "    choosed = []   \n",
    "    # Train   \n",
    "    while s>1:             \n",
    "        link = random.choice(list(vecteur));             \n",
    "        while link in choosed:\n",
    "            link = random.choice(list(vecteur));                \n",
    "        choosed.append(link);       \n",
    "        vTrain.setdefault(link+','+labels[link],{}) \n",
    "        vTrain[link+','+labels[link]] = vecteur[link] \n",
    "        s = s-1 \n",
    "    # Test      \n",
    "    while t>0:             \n",
    "        link = random.choice(list(vecteur));             \n",
    "        while link in choosed:\n",
    "            link = random.choice(list(vecteur));                \n",
    "        choosed.append(link);       \n",
    "        vTest.setdefault(link+','+labels[link],{}) \n",
    "        vTest[link+','+labels[link]] = vecteur[link] \n",
    "        t = t-1            \n",
    "    return vTrain,vTest\n",
    "                            \n",
    "def getXY(vecteurs,labels,pourcentage):\n",
    "    vTrain, vTest = getVecteurTrainTest(vecteurs,labels,pourcentage);     \n",
    "    XTrain = []\n",
    "    YTrain = []\n",
    "    XTest  = []\n",
    "    YTest  = []\n",
    "    for link in vTrain: \n",
    "        XTrain.append(vTrain[link])                 \n",
    "        l = getNumberOfLabel(link.split(',')[1])\n",
    "        YTrain.append(l);        \n",
    "    XTrain = np.array(XTrain)    \n",
    "    for link in vTest: \n",
    "        XTest.append(vTest[link])                 \n",
    "        l = getNumberOfLabel(link.split(',')[1])\n",
    "        YTest.append(l);\n",
    "    XTest = np.array(XTest)\n",
    "    return XTrain,YTrain,XTest,YTest      "
   ]
  },
  {
   "cell_type": "code",
   "execution_count": 7,
   "metadata": {
    "collapsed": false
   },
   "outputs": [],
   "source": [
    "XTrain,YTrain,XTest,YTest = getXY(vecteurs,labels,0.9);\n",
    "XTrain = np.array(XTrain,dtype=float);\n",
    "YTrain = np.array(YTrain,dtype=float);\n",
    "XTest = np.array(XTest,dtype=float);\n",
    "YTest = np.array(YTest,dtype=float);"
   ]
  },
  {
   "cell_type": "markdown",
   "metadata": {},
   "source": [
    "La fonction getTrainTestLabels() s'applique aux labels, elle découpe le dictionnaire labels en train et test selon un pourcentage donné en paramètre."
   ]
  },
  {
   "cell_type": "code",
   "execution_count": 8,
   "metadata": {
    "collapsed": true
   },
   "outputs": [],
   "source": [
    "def getTrainTestLabels(labels, pourcentage):\n",
    "    size = len(labels)\n",
    "    #tr = pourcentage*len(labels) ;           \n",
    "    #te = len(labels)- int(tr);\n",
    "    trainLabels = {}     \n",
    "    testLabels = {}    \n",
    "    for link in labels:\n",
    "        trainLabels.setdefault(link,{})\n",
    "        if random.random() < pourcentage:\n",
    "            trainLabels[link] = labels[link]\n",
    "        else:    \n",
    "            trainLabels[link] = ''    \n",
    "    for link in trainLabels:  \n",
    "        if trainLabels[link]== '':\n",
    "            testLabels.setdefault(link,{})\n",
    "            testLabels[link] = labels[link]\n",
    "    return trainLabels,testLabels "
   ]
  },
  {
   "cell_type": "markdown",
   "metadata": {},
   "source": [
    "<b>Nous Allons tester plusieurs modèles pour voir celui qui prédit le mieux</b><br\\>\n",
    "La foret aléatoire:"
   ]
  },
  {
   "cell_type": "code",
   "execution_count": 106,
   "metadata": {
    "collapsed": false
   },
   "outputs": [
    {
     "name": "stdout",
     "output_type": "stream",
     "text": [
      "0.684210526316\n"
     ]
    }
   ],
   "source": [
    "from sklearn.ensemble import RandomForestClassifier \n",
    "rfc = RandomForestClassifier(n_estimators = 200)\n",
    "rfc.fit(XTrain,YTrain)\n",
    "output = rfc.predict(XTest);\n",
    "score = rfc.score(XTest,YTest);\n",
    "print(score)"
   ]
  },
  {
   "cell_type": "markdown",
   "metadata": {},
   "source": [
    "Le modèle linéaire:"
   ]
  },
  {
   "cell_type": "code",
   "execution_count": 50,
   "metadata": {
    "collapsed": false
   },
   "outputs": [
    {
     "name": "stdout",
     "output_type": "stream",
     "text": [
      "0.018360016964\n"
     ]
    }
   ],
   "source": [
    "from sklearn import linear_model\n",
    "lin = linear_model.LinearRegression()\n",
    "lin.fit(XTrain,YTrain)\n",
    "lin.predict(XTest)\n",
    "output = lin.predict(XTest)\n",
    "score  = lin.score(XTest,YTest)\n",
    "print(score)\n"
   ]
  },
  {
   "cell_type": "markdown",
   "metadata": {},
   "source": [
    "La déscente de gradient stochastique l2:"
   ]
  },
  {
   "cell_type": "code",
   "execution_count": 11,
   "metadata": {
    "collapsed": false
   },
   "outputs": [
    {
     "name": "stdout",
     "output_type": "stream",
     "text": [
      "0.789473684211\n"
     ]
    }
   ],
   "source": [
    "from sklearn.linear_model import SGDClassifier\n",
    "sgd = SGDClassifier(loss=\"hinge\", penalty=\"l2\")\n",
    "sgd.fit(XTrain,YTrain)\n",
    "output = sgd.predict(XTest)\n",
    "score  = sgd.score(XTest,YTest)\n",
    "print(score)"
   ]
  },
  {
   "cell_type": "markdown",
   "metadata": {},
   "source": [
    "Le Perceptron"
   ]
  },
  {
   "cell_type": "code",
   "execution_count": 12,
   "metadata": {
    "collapsed": false
   },
   "outputs": [
    {
     "data": {
      "text/plain": [
       "0.78947368421052633"
      ]
     },
     "execution_count": 12,
     "metadata": {},
     "output_type": "execute_result"
    }
   ],
   "source": [
    "from sklearn.linear_model import Perceptron\n",
    "from sklearn.preprocessing import PolynomialFeatures\n",
    "perceptron = Perceptron(fit_intercept=False, n_iter=100, shuffle=False).fit(XTrain, YTrain)\n",
    "perceptron.score(XTest, YTest)"
   ]
  },
  {
   "cell_type": "markdown",
   "metadata": {},
   "source": [
    "GradientBoostingClassifier"
   ]
  },
  {
   "cell_type": "code",
   "execution_count": 93,
   "metadata": {
    "collapsed": false
   },
   "outputs": [
    {
     "name": "stdout",
     "output_type": "stream",
     "text": [
      "0.842105263158\n"
     ]
    }
   ],
   "source": [
    "from sklearn.ensemble import GradientBoostingClassifier\n",
    "gbc = GradientBoostingClassifier()\n",
    "gbc.fit(XTrain,YTrain)\n",
    "#output = gbc.predict(XTest)\n",
    "score  = gbc.score(XTest,YTest)\n",
    "print(score)"
   ]
  },
  {
   "cell_type": "markdown",
   "metadata": {},
   "source": [
    "<h3>Classifieur</h3>"
   ]
  },
  {
   "cell_type": "code",
   "execution_count": 118,
   "metadata": {
    "collapsed": false
   },
   "outputs": [],
   "source": [
    "def classifieur(noeud, model, vecteurs):\n",
    "    container = [];\n",
    "    v = list(map(float, vecteurs[noeud]))    \n",
    "    container.append(np.array(v))            \n",
    "    output = model.predict(v)    \n",
    "    return getLabelByNumber(output[0]);"
   ]
  },
  {
   "cell_type": "code",
   "execution_count": 119,
   "metadata": {
    "collapsed": true
   },
   "outputs": [],
   "source": [
    "def updateLabels(y,labels):\n",
    "    for link in y:\n",
    "        labels[link] = y[link]\n",
    "    return labels;    \n",
    "def getOrdreAleatoire(nombre, y):\n",
    "    O = [];\n",
    "    while nombre > 1:\n",
    "        link = random.choice(list(y));\n",
    "        O.append(link)\n",
    "        nombre = nombre -1;\n",
    "    return O;    "
   ]
  },
  {
   "cell_type": "code",
   "execution_count": 120,
   "metadata": {
    "collapsed": true
   },
   "outputs": [],
   "source": [
    "class ICA:\n",
    "    def __init__(self, model, vecteurs, labels):\n",
    "        self.model    = model;\n",
    "        self.vecteurs = vecteurs;\n",
    "        self.labels   = labels;\n",
    "   \n",
    "    def predict(self):\n",
    "        y = {}\n",
    "        #bootstraping\n",
    "        # On infère un label pour chaque noeud de label non connu, un label à partir de ses attributs et les labels \n",
    "        # connus des noeuds de son voisinage.\n",
    "        for noeud in self.labels:        \n",
    "            if self.labels[noeud] == '':\n",
    "                y[noeud] = classifieur(noeud, self.model, self.vecteurs)            \n",
    "        self.labels = updateLabels(y,self.labels)            \n",
    "        #Tant qu'on n'est pas arrivé à un étiquetage stable:    \n",
    "        for i in range(1000):\n",
    "            #1 Tire un ordre aléatoire O sur les noeuds dont le label n'est pas connu\n",
    "            O = getOrdreAleatoire(20, y)\n",
    "            #iteration\n",
    "            for i in range(len(O)):\n",
    "                y[noeud] = classifieur(O[i], self.model, self.vecteurs)\n",
    "            #2 Puis on itére sur O en determinant le label de plus fort score pour chaque noeud, à partir de ses \n",
    "            #attributs et les labels des noeuds de son voisinage\n",
    "            self.labels = updateLabels(y,self.labels)         \n",
    "        return self.labels;   \n",
    "    def score(self,testLabels):\n",
    "        count = 0.0\n",
    "        match = 0.0\n",
    "        for link in testLabels:\n",
    "            count = count+1            \n",
    "            if testLabels[link] == self.labels[link]:\n",
    "                match=match+1\n",
    "                #print yc,' - ',labels[link]\n",
    "        return match/count"
   ]
  },
  {
   "cell_type": "code",
   "execution_count": 121,
   "metadata": {
    "collapsed": false
   },
   "outputs": [
    {
     "name": "stdout",
     "output_type": "stream",
     "text": [
      "1.0\n"
     ]
    }
   ],
   "source": [
    "labels, attrs = loadLabels();\n",
    "trainLabels,testLabels = getTrainTestLabels(labels, 0.8);\n",
    "ica = ICA(perceptron,vecteurs,trainLabels)\n",
    "labelsPredicted = ica.predict();\n",
    "print ica.score(testLabels)"
   ]
  },
  {
   "cell_type": "markdown",
   "metadata": {},
   "source": [
    "<h3>Propagation de labels</h3>"
   ]
  },
  {
   "cell_type": "code",
   "execution_count": null,
   "metadata": {
    "collapsed": true
   },
   "outputs": [],
   "source": []
  }
 ],
 "metadata": {
  "kernelspec": {
   "display_name": "Python 2",
   "language": "python",
   "name": "python2"
  },
  "language_info": {
   "codemirror_mode": {
    "name": "ipython",
    "version": 2
   },
   "file_extension": ".py",
   "mimetype": "text/x-python",
   "name": "python",
   "nbconvert_exporter": "python",
   "pygments_lexer": "ipython2",
   "version": "2.7.10"
  }
 },
 "nbformat": 4,
 "nbformat_minor": 0
}
